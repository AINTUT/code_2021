{
  "nbformat": 4,
  "nbformat_minor": 0,
  "metadata": {
    "colab": {
      "name": "Midterm.ipynb",
      "provenance": [],
      "collapsed_sections": []
    },
    "kernelspec": {
      "name": "python3",
      "display_name": "Python 3"
    }
  },
  "cells": [
    {
      "cell_type": "markdown",
      "metadata": {
        "id": "vv49axWeylsB"
      },
      "source": [
        "This notebook is freely available for redistribution under the [GPL-3.0 license](https://choosealicense.com/licenses/gpl-3.0/).\n",
        "\n",
        "Authors: 蘇嘉冠, 鄭宇伸, 喬彥翔"
      ]
    },
    {
      "cell_type": "markdown",
      "metadata": {
        "id": "Na0_QjevL_F5"
      },
      "source": [
        "# 人工智慧與工程應用 2021 期中考"
      ]
    },
    {
      "cell_type": "markdown",
      "metadata": {
        "id": "AoIhbLJDFBbi"
      },
      "source": [
        "## 答題方式說明\n",
        "\n",
        "1. 總共有六個題組，每個題組有數小題。總共 25 小題，每題 4 分。\n",
        "2. 請將 `sid` 改為你的學號， `credential` 改為你拿到的密碼，並且先執行以下 3 個關於答案上傳、查詢的程式碼區塊。\n",
        "3. 每個題組完成後，請記得執行該題組的答案上傳區。答案上傳的期限為  `2021/04/21 18:10`。\n",
        "4. 執行答題狀況查詢的程式區塊，可以看到你目前的答題狀況。在 `2021/04/21 18:10` 之後，你還可以看到答對與答錯，以及得到的總分。\n",
        "5. 請保存好你的這份檔案！"
      ]
    },
    {
      "cell_type": "code",
      "metadata": {
        "id": "ZjoDN_KfVKs5"
      },
      "source": [
        "sid = \"\" # PLEASE MODIFY\n",
        "credential = \"\" # PLEASE MODIFY"
      ],
      "execution_count": null,
      "outputs": []
    },
    {
      "cell_type": "code",
      "metadata": {
        "id": "qWGZEQt5Vuqd"
      },
      "source": [
        "import json\n",
        "import requests\n",
        "\n",
        "def submit_answers(\n",
        "    sid,\n",
        "    credential,\n",
        "    ordinal,\n",
        "    answers,\n",
        "    api_url=\"https://aintut2021.herokuapp.com\",\n",
        "    api_version=\"v1\",\n",
        "):\n",
        "    request_url = \"{}/{}/midterm\".format(api_url, api_version)\n",
        "\n",
        "    res = requests.post(request_url, data={\n",
        "        \"sid\": sid,\n",
        "        \"ordinal\": ordinal,\n",
        "        \"answers\": answers,\n",
        "        \"credential\": credential,\n",
        "    })\n",
        "\n",
        "    data = res.json()\n",
        "\n",
        "    if res.status_code >= 400:\n",
        "        print(\"\\x1b[31m{}\\x1b[0m\".format(json.dumps(data, indent=4)))\n",
        "        return\n",
        "\n",
        "    print(\"You successully submit answers for section {}\".format(\n",
        "        ordinal,\n",
        "    ))\n",
        "    for idx, answer in enumerate(answers):\n",
        "        print(\"{}-{}: {}\".format(ordinal, idx + 1, answer))"
      ],
      "execution_count": null,
      "outputs": []
    },
    {
      "cell_type": "code",
      "metadata": {
        "id": "RykfoTwwh92V"
      },
      "source": [
        "import json\n",
        "import requests\n",
        "\n",
        "def query_midterm(\n",
        "    sid,\n",
        "    credential,\n",
        "    api_url=\"https://aintut2021.herokuapp.com\",\n",
        "    api_version=\"v1\",\n",
        "):\n",
        "    request_url = \"{}/{}/midterm\".format(api_url, api_version)\n",
        "\n",
        "    answers_list = []\n",
        "    correctnesses_list = []\n",
        "    for ordinal in range(1, 6 + 1):\n",
        "        res = requests.get(request_url, params={\n",
        "            \"sid\": sid,\n",
        "            \"ordinal\": ordinal,\n",
        "            \"credential\": credential,\n",
        "        })\n",
        "\n",
        "        data = res.json()\n",
        "\n",
        "        if res.status_code >= 400:\n",
        "            print(\"\\x1b[31m{}\\x1b[0m\".format(json.dumps(data, indent=4)))\n",
        "            return\n",
        "\n",
        "        answers_list.append(data[\"answers\"])\n",
        "\n",
        "        if \"correctnesses\" in data:\n",
        "            correctnesses_list.append(data[\"correctnesses\"])\n",
        "\n",
        "    show_correctness = len(answers_list) == len(correctnesses_list)\n",
        "    num_correctnesses = 0\n",
        "\n",
        "    for ordinal_idx, answers in enumerate(answers_list):\n",
        "        print(\"== Your submitted answers for section {} == \".format(\n",
        "            ordinal_idx + 1,\n",
        "        ))\n",
        "        if not show_correctness:\n",
        "            for answer_idx, answer in enumerate(answers):\n",
        "                print(\"{}-{}: {}\".format(\n",
        "                    ordinal_idx + 1,\n",
        "                    answer_idx + 1,\n",
        "                    answer,\n",
        "                ))\n",
        "        else:\n",
        "            correctnesses = correctnesses_list[ordinal_idx]\n",
        "            for answer_idx, (answer, correctness) \\\n",
        "                in enumerate(zip(answers, correctnesses)):\n",
        "                    if correctness:\n",
        "                        correct_text = \"\\033[92mPASS\\x1b[0m\"\n",
        "                        num_correctnesses += 1\n",
        "                    else:\n",
        "                        correct_text = \"\\x1b[31mFAIL\\x1b[0m\"\n",
        "                    print(\"{} {}-{}: {}\".format(\n",
        "                        correct_text,\n",
        "                        ordinal_idx + 1,\n",
        "                        answer_idx + 1,\n",
        "                        answer,\n",
        "                    ))\n",
        "\n",
        "    if show_correctness:\n",
        "        print(\"Your total score for midterm: {}\".format(4 * num_correctnesses))"
      ],
      "execution_count": null,
      "outputs": []
    },
    {
      "cell_type": "markdown",
      "metadata": {
        "id": "5gQYo_3PGOva"
      },
      "source": [
        "### 答題狀況查詢"
      ]
    },
    {
      "cell_type": "code",
      "metadata": {
        "id": "O0LgSgvIGqGk"
      },
      "source": [
        "query_midterm(sid, credential)"
      ],
      "execution_count": null,
      "outputs": []
    },
    {
      "cell_type": "markdown",
      "metadata": {
        "id": "qhAXdsc_Jbxb"
      },
      "source": [
        "## 題組（一）：基本觀念\n",
        "\n",
        "這裡的題目皆為單選題，請將答案填為 `\"A\"`、`\"B\"`、`\"C\"` 或 `\"D\"`"
      ]
    },
    {
      "cell_type": "markdown",
      "metadata": {
        "id": "LdU5397POYR0"
      },
      "source": [
        "(1) 小明想使用 Supervised Learning 訓練出模型以辨識圖片中的動物是貓或是狗，以下哪種資料會是小明所需要的訓練資料? （`answer_1_1`）\n",
        "\n",
        "- (A) 貓狗的照片，且每張照片**有**標註是貓或狗\n",
        "- (B) 貓狗的照片，但每張照片**沒有**標註是貓或狗\n",
        "- (C) 貓狗的照片，但只有貓的照片**有**標註為貓，狗的照片則**沒有**標註\n",
        "- (D) 貓狗的照片，但只有狗的照片**有**標註為狗，貓的照片則**沒有**標註\n",
        " \n"
      ]
    },
    {
      "cell_type": "code",
      "metadata": {
        "id": "MKwdrKBAjDyG"
      },
      "source": [
        "answer_1_1 = \"\" # PLEASE MODIFY"
      ],
      "execution_count": null,
      "outputs": []
    },
    {
      "cell_type": "markdown",
      "metadata": {
        "id": "a1ism7eNYhjT"
      },
      "source": [
        "(2) 下列機器學習任務中，何者屬於 classification 的任務？（`answer_1_2`）\n",
        "\n",
        "- (A) input：一隻狗的圖片檔，output：這隻狗的種類\n",
        "- (B) input：天氣的資料，output：PM 2.5 的數值\n",
        "- (C) input：股市的狀況，output：某檔股票的股價\n",
        "- (D) input：一幅畫的圖片檔，output：這幅圖畫的分數"
      ]
    },
    {
      "cell_type": "code",
      "metadata": {
        "id": "_u-YfUcyjJ1u"
      },
      "source": [
        "answer_1_2 = \"\" # PLEASE MODIFY"
      ],
      "execution_count": null,
      "outputs": []
    },
    {
      "cell_type": "markdown",
      "metadata": {
        "id": "z7LCMwsRTB0y"
      },
      "source": [
        "(3) 下列何者為 Deep Learning 的常用方法? （`answer_1_3`）\n",
        "\n",
        "- (A) Linear regression\n",
        "- (B) Logistic regression\n",
        "- (C) K-nearest neighbors\n",
        "- (D) Neutral networks"
      ]
    },
    {
      "cell_type": "code",
      "metadata": {
        "id": "JymGw856jMl1"
      },
      "source": [
        "answer_1_3 = \"\" # PLEASE MODIFY"
      ],
      "execution_count": null,
      "outputs": []
    },
    {
      "cell_type": "markdown",
      "metadata": {
        "id": "parvn2i6cY2t"
      },
      "source": [
        "(4) 下列的機器學習任務中，何者的情境最可能為 Unsupervised Learning？（`answer_1_4`）\n",
        "\n",
        "- (A) 某醫院蒐集了 30 年胸部 X 光的影像檔，包含有肺癌的、沒有肺癌的，並且根據這些資料來訓練模型，讓電腦做自動的肺癌辨識，作為醫生問診的輔助\n",
        "- (B) 某農場為了導入農業自動化，將紀錄了五年各種給水紀錄（什麼時間、氣候、土讓性質該給多少水）整合，並且基於機器學習的方法開發出一套自動給水系統\n",
        "- (C) 某圖書館的資訊系統為了加速新書分類的速度，調閱了所有過去館藏的書名以及相對應的分類資料，做出了一個預測書籍分類的系統\n",
        "- (D) 某電商平台為了讓商品推薦更加準確，依照平台的使用者資料，依照性別、年齡、購買習慣等特徵，將使用者做分群\n"
      ]
    },
    {
      "cell_type": "code",
      "metadata": {
        "id": "xSgjWm9ljSRr"
      },
      "source": [
        "answer_1_4 = \"\" # PLEASE MODIFY"
      ],
      "execution_count": null,
      "outputs": []
    },
    {
      "cell_type": "markdown",
      "metadata": {
        "id": "7y8hBrl5cK1N"
      },
      "source": [
        "(5) 下列何者不是 Meachine Learning 的情境? （`answer_1_5`）\n",
        "\n",
        "- (A) Supervised Learning \n",
        "- (B) Reinforcement Learning\n",
        "- (C) Anti-Supervised Learning\n",
        "- (D) Semi-Supervised Learning"
      ]
    },
    {
      "cell_type": "code",
      "metadata": {
        "id": "URaVkbuojYHB"
      },
      "source": [
        "answer_1_5 = \"\" # PLEASE MODIFY"
      ],
      "execution_count": null,
      "outputs": []
    },
    {
      "cell_type": "markdown",
      "metadata": {
        "id": "qtsN2co5eWFz"
      },
      "source": [
        "(6) AlexNet 可以說是 Deep Learning 發展中重要的引爆點，請問 AlexNet 是在哪一年發表的? （`answer_1_6`）\n",
        "\n",
        "- (A) 1992\n",
        "- (B) 2002\n",
        "- (C) 2012\n",
        "- (D) 2021"
      ]
    },
    {
      "cell_type": "code",
      "metadata": {
        "id": "Id_tbw2djuLg"
      },
      "source": [
        "answer_1_6 = \"\" # PLEASE MODIFY"
      ],
      "execution_count": null,
      "outputs": []
    },
    {
      "cell_type": "markdown",
      "metadata": {
        "id": "xSz0oRZ8vWAU"
      },
      "source": [
        "(7) 為了要解決某個 regression 問題，我們總共訓練了 4 種模型，並且用 MSE 作為衡量指標。想請問這四種模型中，哪個最可能出現了 overfitting 的問題？（`answer_1_7`）\n",
        "\n",
        "- (A) 模型一：training data 的 MSE = 13.21，testing data 的 MSE = 132.1\n",
        "- (B) 模型二：training data 的 MSE = 125.87，testing data 的 MSE =  136.87\n",
        "- (C) 模型三：training data 的 MSE = 14.22，testing data 的 MSE = 16.68\n",
        "- (D) 模型四：training data 的 MSE = 52.12，testing data 的 MSE = 64.13"
      ]
    },
    {
      "cell_type": "code",
      "metadata": {
        "id": "4i2kK05FjwHk"
      },
      "source": [
        "answer_1_7 = \"\" # PLEASE MODIFY"
      ],
      "execution_count": null,
      "outputs": []
    },
    {
      "cell_type": "markdown",
      "metadata": {
        "id": "tvZuZsrPx5FV"
      },
      "source": [
        "(8) 我們用 Python 定義了 function `enlarge()`，試問當參數 `number` 為以下何值時，會執行 `return number ** 3` 這行程式碼？（`answer_1_8`）\n",
        "\n",
        "- (A) 6\n",
        "- (B) 40\n",
        "- (C) 99\n",
        "- (F) 37"
      ]
    },
    {
      "cell_type": "code",
      "metadata": {
        "id": "h3bhbdRL_gUY"
      },
      "source": [
        "def enlarge(number):\n",
        "    if number % 2 == 0:\n",
        "        return number ** 2\n",
        "    elif number % 3 == 0:\n",
        "        return number ** 3\n",
        "    else:\n",
        "        return number ** 4"
      ],
      "execution_count": null,
      "outputs": []
    },
    {
      "cell_type": "code",
      "metadata": {
        "id": "XST-dNPbj1aw"
      },
      "source": [
        "answer_1_8 = \"\" # PLEASE MODIFY"
      ],
      "execution_count": null,
      "outputs": []
    },
    {
      "cell_type": "markdown",
      "metadata": {
        "id": "oBjfpOjiE_Y6"
      },
      "source": [
        "(9) 請問執行以下 Python 程式碼後，`total = total + number` 這行程式碼總共被執行過幾次？（`answer_1_9`）\n",
        "\n",
        "- (A) 37\n",
        "- (B) 35\n",
        "- (C) 33\n",
        "- (D) 31"
      ]
    },
    {
      "cell_type": "code",
      "metadata": {
        "id": "27TrFZIGFLmT"
      },
      "source": [
        "total = 0\n",
        "number = 37\n",
        "\n",
        "while number > 0:\n",
        "    total = total + number\n",
        "\n",
        "    if number < 10:\n",
        "        number = number - 2\n",
        "    else:\n",
        "        number = number - 1"
      ],
      "execution_count": null,
      "outputs": []
    },
    {
      "cell_type": "code",
      "metadata": {
        "id": "H4Dql6y-kG6v"
      },
      "source": [
        "answer_1_9 = \"\" # PLEASE MODIFY"
      ],
      "execution_count": null,
      "outputs": []
    },
    {
      "cell_type": "markdown",
      "metadata": {
        "id": "0Yy-0iqoC0i4"
      },
      "source": [
        "(10) 請問執行下列 Python 程式碼後，`final_matrix` 的 shape 為多少？（`answer_1_10`）\n",
        "\n",
        "- (A) (2, 3)\n",
        "- (B) (2, 7)\n",
        "- (C) (2, 5)\n",
        "- (D) (5, 7)"
      ]
    },
    {
      "cell_type": "code",
      "metadata": {
        "id": "tvjzmL3tC1bE"
      },
      "source": [
        "!pip install numpy"
      ],
      "execution_count": null,
      "outputs": []
    },
    {
      "cell_type": "code",
      "metadata": {
        "id": "mARlvtttkN-f"
      },
      "source": [
        "import numpy as np\n",
        "\n",
        "matrix_1 = np.ones((2, 3))\n",
        "matrix_2 = np.ones((3, 5))\n",
        "matrix_3 = np.ones((5, 7))\n",
        "\n",
        "final_matrix = np.dot(np.dot(matrix_1, matrix_2), matrix_3)"
      ],
      "execution_count": null,
      "outputs": []
    },
    {
      "cell_type": "code",
      "metadata": {
        "id": "MJeHLsh6kKVn"
      },
      "source": [
        "answer_1_10 = \"\" # PLEASE MODIFY"
      ],
      "execution_count": null,
      "outputs": []
    },
    {
      "cell_type": "markdown",
      "metadata": {
        "id": "Vkn7XnXII7J-"
      },
      "source": [
        "### 題組（一）答案上傳區"
      ]
    },
    {
      "cell_type": "code",
      "metadata": {
        "id": "Bd0pH4XxI_F_"
      },
      "source": [
        "submit_answers(sid, credential, 1, [\n",
        "    answer_1_1,\n",
        "    answer_1_2,\n",
        "    answer_1_3,\n",
        "    answer_1_4,\n",
        "    answer_1_5,\n",
        "    answer_1_6,\n",
        "    answer_1_7,\n",
        "    answer_1_8,\n",
        "    answer_1_9,\n",
        "    answer_1_10,\n",
        "])"
      ],
      "execution_count": null,
      "outputs": []
    },
    {
      "cell_type": "markdown",
      "metadata": {
        "id": "5vz1unmmbghF"
      },
      "source": [
        "## 題組（二）：魔物獵人\n",
        "\n",
        "![](https://www.monsterhunter.com/wp-content/themes/mha/assets/wallpaper_gift/img/wallpaper_rise_1920_1080.jpg)\n",
        "\n",
        "\n",
        "([圖片來源](https://www.monsterhunter.com/mha/zh-tw/wallpaper_gift_zh-tw/))\n",
        "\n",
        "魔物獵人（MONSTER HUNTER）為日本遊戲公司 CAPCOM 所製作的動作角色扮演系列遊戲，玩家在遊戲中扮演獵人，利用各式類型的武器狩獵魔物，取得素材用於強化裝備與武器。\n",
        "\n",
        "某一天獵人良三一如既往的接取任務並討伐魔物，從白天打到黑夜，不過良三還不想休息，他想要了解今天的狩獵成果如何，以檢視自己的狩獵效率高不高。\n",
        "\n",
        "這裡有一個 list 儲存他今日狩獵的所有魔物的體型（單位：公分），請你想辦法找出以下的數據:\n",
        "1. 良三今天狩獵的魔物最大的體型是多大? (`max_monster_length`)\n",
        "2. 良三今天總共狩獵了幾隻魔物? (`num_monster`)\n",
        "3. 良三今天狩獵的魔物體型平均是多少?答案在誤差範圍 0.01 內都算對 (`avg_monster_length`)\n"
      ]
    },
    {
      "cell_type": "code",
      "metadata": {
        "id": "vwBfXBdxfnmh"
      },
      "source": [
        "monster_lengths = [\n",
        "    413, 411, 207, 677, 112, 409, 302, 123, 661, 503, 442, 699, 149, 284, 237,\n",
        "    613, 419, 463, 264, 285, 699, 290, 558, 685, 483, 431, 657, 170, 673, 546,\n",
        "    192, 521, 407, 366, 252, 309, 434, 414, 205, 313, 448, 622, 405, 351, 319,\n",
        "    98, 188, 379, 115, 560, 141, 641, 151, 357, 142, 186, 657, 207, 562, 492,\n",
        "    298, 535, 209, 395, 117, 530, 637, 696, 536, 653, 564, 180, 565, 583, 698,\n",
        "    394, 559, 274, 113, 342, 365, 95, 428, 401, 157, 553, 359, 296, 253, 237,\n",
        "    94, 544, 619, 201, 415, 279, 347, 90, 242, 397, 525, 141, 257, 208, 528,\n",
        "    106, 564, 201, 539, 212, 435, 470, 275, 623, 461, 542, 513, 304, 158, 671,\n",
        "    508, 556, 564, 242, 365, 323, 563, 556, 308, 106, 423, 311, 537, 203, 660,\n",
        "    278, 284, 425, 179, 482, 591, 358, 265, 442, 96, 258, 164, 322, 202, 654,\n",
        "    506, 507, 534, 348, 582, 120, 369, 173, 132, 622, 434, 639, 279, 197, 493,\n",
        "]"
      ],
      "execution_count": null,
      "outputs": []
    },
    {
      "cell_type": "code",
      "metadata": {
        "id": "PEO6k_tKgAFf"
      },
      "source": [
        "# PLEASE MODIFY CODE BELOW.\n",
        "\n",
        "max_monster_length = 0\n",
        "print(\"The length of largest monster = {} cm\".format(max_monster_length))"
      ],
      "execution_count": null,
      "outputs": []
    },
    {
      "cell_type": "code",
      "metadata": {
        "id": "UAZPWL77g5fH"
      },
      "source": [
        "# PLEASE MODIFY CODE BELOW.\n",
        "\n",
        "num_monster = 0\n",
        "print(\"Number of hunted monsters = {}\".format(num_monster))"
      ],
      "execution_count": null,
      "outputs": []
    },
    {
      "cell_type": "code",
      "metadata": {
        "id": "0PXdme-xhh_V"
      },
      "source": [
        "# PLEASE MODIFY CODE BELOW.\n",
        "\n",
        "avg_monster_length = 0.0\n",
        "print(\"Monster average length = {} cm\".format(avg_monster_length))"
      ],
      "execution_count": null,
      "outputs": []
    },
    {
      "cell_type": "markdown",
      "metadata": {
        "id": "FULggFt9JtYm"
      },
      "source": [
        "### 題組（二）答案上傳區"
      ]
    },
    {
      "cell_type": "code",
      "metadata": {
        "id": "8XrEKuyPJv3V"
      },
      "source": [
        "submit_answers(sid, credential, 2, [\n",
        "    max_monster_length,\n",
        "    num_monster,\n",
        "    avg_monster_length,\n",
        "])"
      ],
      "execution_count": null,
      "outputs": []
    },
    {
      "cell_type": "markdown",
      "metadata": {
        "id": "0kVhS6KyKjB7"
      },
      "source": [
        "## 題組（三）話中有話\n",
        "\n",
        "浩哥是學校的風雲人物，追求者眾。然而浩哥目前對於談戀愛還沒有興趣，但對於追求者又不好意思太過直接，因此只能常常用講反話的方式來婉拒對方。\n",
        "\n",
        "今天，我們要來幫浩哥：\n",
        "1. 將浩哥給學妹的一段話（`to_may`），轉成他真的想說的話，也就是將所有的 `可愛` 換成 `不可愛`，`高興` 換成 `難過`（`to_may_real`）\n",
        "2. 算一下，浩哥給學妹的一段話（`to_may`），如果不包含標點符號，總共有幾個字？（`to_may_count`）\n",
        "\n",
        "附註：\n",
        "- 標點符號有：`，`、`。`、`！`、`？`\n",
        "- 例如：`哈哈，我真的好帥！` 這段話總共有 7 個字"
      ]
    },
    {
      "cell_type": "code",
      "metadata": {
        "id": "dDi121kkKuiE"
      },
      "source": [
        "to_may = \\\n",
        "    \"這世界上最可愛的就是你。我每次看到你，內心就高興到不行。好想好想要，\" \\\n",
        "    \"每天都跟你一起上學，牽著你可愛的小手，一起高興的轉圈圈。啊！到底要如何，\" \\\n",
        "    \"才能馬上就與你見面？讓我捏捏你可愛的小臉，摸摸可愛的秀髮，玩玩可愛的小貓咪呢？\""
      ],
      "execution_count": null,
      "outputs": []
    },
    {
      "cell_type": "code",
      "metadata": {
        "id": "S2xtstZqNUGt"
      },
      "source": [
        "# PLEASE MODIFY CODE BELOW.\n",
        "\n",
        "to_may_real = \"\"\n",
        "\n",
        "print(to_may_real)"
      ],
      "execution_count": null,
      "outputs": []
    },
    {
      "cell_type": "code",
      "metadata": {
        "id": "9d8FPdD8R2Fr"
      },
      "source": [
        "# PLEASE MODIFY CODE BELOW.\n",
        "\n",
        "to_may_count = 0\n",
        "\n",
        "print(\"Number of pure words = {}\".format(to_may_count))"
      ],
      "execution_count": null,
      "outputs": []
    },
    {
      "cell_type": "markdown",
      "metadata": {
        "id": "rX1DXoS9KNAw"
      },
      "source": [
        "### 題組（三）答案上傳區"
      ]
    },
    {
      "cell_type": "code",
      "metadata": {
        "id": "9uLFP-lRKaAH"
      },
      "source": [
        "submit_answers(sid, credential, 3, [\n",
        "    to_may_real,\n",
        "    to_may_count,\n",
        "])"
      ],
      "execution_count": null,
      "outputs": []
    },
    {
      "cell_type": "markdown",
      "metadata": {
        "id": "CjaR68QWGi2h"
      },
      "source": [
        "## 題組（四）：PCS 選手數據計算\n",
        "\n",
        "![](https://img.4gamers.com.tw/ckfinder/images/Panda/LOL/2020%20news/200225-pcs-1.png?versionId=DX6agpEUOtAa.VZzjhF2eD4tXBlF0vXb)\n",
        "（[圖片來源](https://www.4gamers.com.tw/news/detail/42194/pcs-2020-lineup)）\n",
        "\n",
        "PCS職業聯賽，為台灣、香港及東南亞各國的英雄聯盟電子競技職業聯賽。而PCS的2021賽季已於2月19日開打，並在4月開始進行季後賽。\n",
        "目前聯賽的參賽隊伍有：\n",
        "\n",
        "#### Berjaya Dragons、Beyond Gaming、BOOM Esports、Hong Kong Attitude、Impunity Esports、Taipei J Team、Machi Esports、PSG Talon\n",
        "\n",
        "為了幫助觀眾了解選手的表現狀況，出現了所謂的 KDA 值，已知 KDA 值的計算方式如下:\n",
        "\n",
        "$KDA = （擊殺數 + 助攻數）/ 死亡數$\n",
        "\n",
        "下面有選手在季賽的相關數據（[來源](https://www.lolpcs.com/stats.php?Lan=2)），裡面資料分別有：\n",
        "- `PLAYERS`：選手名稱\n",
        "- `TEAM`：隊名\n",
        "- `KILL`：擊殺數\n",
        "- `DEATH`：死亡數\n",
        "- `ASSIST`：助攻數\n",
        "\n",
        "請試著回答以下問題:\n",
        "1. KDA 最高的選手是誰？（`KDA_max_player`）\n",
        "2. 全聯盟平均 KDA 為多少？答案在誤差範圍 0.01 內都算對（`average_KDA`）\n",
        "3. KDA 平均最高的隊伍是？（`TEAM_most_average_KDA`）"
      ]
    },
    {
      "cell_type": "code",
      "metadata": {
        "id": "D0wcL3A0Do-f"
      },
      "source": [
        "!pip install pandas"
      ],
      "execution_count": null,
      "outputs": []
    },
    {
      "cell_type": "code",
      "metadata": {
        "id": "7C9AOSgkDrae"
      },
      "source": [
        "import pandas as pd"
      ],
      "execution_count": null,
      "outputs": []
    },
    {
      "cell_type": "code",
      "metadata": {
        "id": "3CwSbMtG40as"
      },
      "source": [
        "data = pd.read_csv(\n",
        "    \"https://raw.githubusercontent.com/AINTUT/code_2021/main/datasets/kda.csv\",\n",
        ")\n",
        "\n",
        "print(data)"
      ],
      "execution_count": null,
      "outputs": []
    },
    {
      "cell_type": "code",
      "metadata": {
        "id": "4DqLqYbFseYq"
      },
      "source": [
        "def kda_calculate(KILL, ASSIST, DEATH):\n",
        "    KDA = 0.0 # PLEASE MODIFY\n",
        "\n",
        "    return KDA \n",
        "\n",
        "KDA_list = [] \n",
        "for index,player in data.iterrows():\n",
        "    KDA = kda_calculate(player[\"KILL\"], 0, 0) # PLEASE MODIFY\n",
        "    KDA_list.append(KDA)\n",
        "\n",
        "# Add a new column \"KDA\" into data.\n",
        "data[\"KDA\"] = KDA_list\n",
        "\n",
        "print(data)"
      ],
      "execution_count": null,
      "outputs": []
    },
    {
      "cell_type": "code",
      "metadata": {
        "id": "elR9eesXGXq_"
      },
      "source": [
        "KILL_max_player = data.loc[data['KILL'].idxmax(), \"PLAYERS\"]\n",
        "DEATH_max_player = data.loc[data['DEATH'].idxmax(), \"PLAYERS\"]\n",
        "ASSIST_max_player = data.loc[data['ASSIST'].idxmax(), \"PLAYERS\"]\n",
        "KDA_max_player = \"\" # PLEASE MODIFY\n",
        "\n",
        "print(\"The player that has highest KILL is {}\".format(KILL_max_player))\n",
        "print(\"The player that has highest DEATH is {}\".format(DEATH_max_player))\n",
        "print(\"The player that has highest ASSIST is {}\".format(ASSIST_max_player))\n",
        "print(\"The player that has highest KDA is {}\".format(KDA_max_player))"
      ],
      "execution_count": null,
      "outputs": []
    },
    {
      "cell_type": "code",
      "metadata": {
        "id": "-ywX7UMtofg6"
      },
      "source": [
        "average_KDA = 0.0 # PLEASE MODIFY\n",
        "\n",
        "print(\"Average KDA over the league = {}\".format(average_KDA))"
      ],
      "execution_count": null,
      "outputs": []
    },
    {
      "cell_type": "code",
      "metadata": {
        "id": "FDxv9rwrHbld"
      },
      "source": [
        "TEAMS = [\n",
        "    \"Berjaya Dragons\",\n",
        "    \"Beyond Gaming\",\n",
        "    \"BOOM Esports\",\n",
        "    \"Hong Kong Attitude\",\n",
        "    \"Impunity Esports\",\n",
        "    \"Taipei J Team\",\n",
        "    \"Machi Esports\",\n",
        "    \"PSG Talon\",\n",
        "]\n",
        "\n",
        "TEAM_most_average_KDA_score = 0\n",
        "TEAM_most_average_KDA = \"\"\n",
        "\n",
        "for team in TEAMS:\n",
        "  KDA_sum = 0\n",
        "  player_number = 0\n",
        "  for index, player in data.iterrows():\n",
        "      if player[\"TEAM\"] == team:\n",
        "         KDA_sum = 0.0 # PLEASE MODIFY\n",
        "         player_number = player_number + 1\n",
        "  TEAM_average_KDA_score = KDA_sum / player_number\n",
        "  if TEAM_most_average_KDA_score < TEAM_average_KDA_score:\n",
        "       TEAM_most_average_KDA_score = TEAM_average_KDA_score\n",
        "       TEAM_most_average_KDA = \"\" # PLEASE MODIFY\n",
        "\n",
        "print(\"The team that has highest average KDA is {}\".format(\n",
        "    TEAM_most_average_KDA,\n",
        "))"
      ],
      "execution_count": null,
      "outputs": []
    },
    {
      "cell_type": "markdown",
      "metadata": {
        "id": "KF-dSY0VKrNP"
      },
      "source": [
        "### 題組（四）答案上傳區"
      ]
    },
    {
      "cell_type": "code",
      "metadata": {
        "id": "YmmvjB2UKtvX"
      },
      "source": [
        "submit_answers(sid, credential, 4, [\n",
        "    KDA_max_player,\n",
        "    average_KDA,\n",
        "    TEAM_most_average_KDA,\n",
        "])"
      ],
      "execution_count": null,
      "outputs": []
    },
    {
      "cell_type": "markdown",
      "metadata": {
        "id": "O6Fi87BdGoqY"
      },
      "source": [
        "## 題組（五）：決鬥！\n",
        "\n",
        "![](https://i.imgur.com/F0RgRm0.png)\n",
        "\n",
        "（[圖片來源](https://news.gamme.com.tw/917406)）\n",
        "\n",
        "（這題稍微比較難，可以晚點再寫）\n",
        "\n",
        "[《遊戲王－怪獸之決鬥》](https://en.wikipedia.org/wiki/Yu-Gi-Oh!_Duel_Monsters)是日本漫畫家高橋和希所創作的漫畫的改編電視動畫，以卡片怪獸（遊戲王卡）決鬥為主線。動畫其中的一位主要角色：城之內，受邀參加了海馬集團主辦的比賽「決鬥城市」。沒有神之卡的他，如何在這殘酷的比賽中優勝呢？因此我們將幫助城之內，蒐集卡牌的資料，並且做事前的戰術分析！\n",
        "\n",
        "請試著分析以下資訊：\n",
        "1. 當城之內召喚出怪獸：人造人電子機器人（`Jinzo`）之後，對手將無法使用陷阱卡。請問卡片種類為陷阱卡（`Trap Card`）的數量總共有多少？（`num_trap_cards`）\n",
        "2. 在所有召喚等級為 7 的怪獸中，防禦力比真紅眼黑龍（`Red-Eyes Black Flare Dragon`）的攻擊力低至少（含） 500 點的怪獸總共有幾個？（`num_dragon_beats`）\n",
        "3. 對所有屬性為暗（`DARK`）的怪獸而言，平均召喚一隻暗屬性怪獸需要犧牲幾隻怪獸？召喚怪獸的規則請看公式一。答案在誤差範圍 0.01 內都算對（`num_avg_summon`）\n",
        "4. 在所有種族為獸戰士（`Beast-Warrior`）的怪獸中，綜合能力最高的怪獸名字為何？綜合能力的運算方式如公式二（`strongest_bw_monster`）\n",
        "\n",
        "所有遊戲王卡的資料為一個 `DataFrame` 型態的物件（名稱為 `df`），各個 column name 的意義如下：\n",
        "- `Name`：卡片的名字\n",
        "- `Type`：卡片的種類（例如：一般怪獸 `Normal Monster`、陷阱卡 `Trap Card`）\n",
        "- `Level`：卡片的召喚等級\n",
        "- `Race`：卡片的種族（例如：戰士族 `Warrior`、龍族 `Dragon`）\n",
        "- `Attribute`：卡片的屬性（例如：水屬性 `WATER`、火屬性 `FIRE`）\n",
        "- `ATK`：卡片的攻擊力\n",
        "- `DEF`：卡片的防禦力\n",
        "\n",
        "（[資料來源](https://www.kaggle.com/tathor/yugioh-trading-cards-dataset)）\n",
        "\n",
        "公式一：當要召喚怪獸時，依照怪獸的召喚等級，可能需要先犧牲掉一些數量的其他怪獸才能進行召喚\n",
        "- 召喚等級 4 或以下：不須犧牲任何怪獸\n",
        "- 召喚等級 5 或 6：犧牲 1 隻怪獸\n",
        "- 召喚等級 7 或以上：犧牲 2 隻怪獸\n",
        "\n",
        "公式二：怪獸綜合能力的運算方式如下：\n",
        "\n",
        "$綜合能力 = 300 * \\frac{1}{召喚等級} + 0.7 * 攻擊力 + 0.3 * 防禦力$"
      ]
    },
    {
      "cell_type": "code",
      "metadata": {
        "id": "bPReEeeMsFmP"
      },
      "source": [
        "!pip install numpy pandas"
      ],
      "execution_count": null,
      "outputs": []
    },
    {
      "cell_type": "code",
      "metadata": {
        "id": "4R0FLgRusNOW"
      },
      "source": [
        "import numpy as np\n",
        "import pandas as pd"
      ],
      "execution_count": null,
      "outputs": []
    },
    {
      "cell_type": "code",
      "metadata": {
        "id": "GSYu20OxsQOn"
      },
      "source": [
        "df = pd.read_csv(\n",
        "    \"https://raw.githubusercontent.com/AINTUT/code_2021/main/datasets/\"\n",
        "    \"yugioh_cards.csv\",\n",
        ")\n",
        "\n",
        "print(df)"
      ],
      "execution_count": null,
      "outputs": []
    },
    {
      "cell_type": "code",
      "metadata": {
        "id": "yop7zMFlB0lE"
      },
      "source": [
        "num_trap_cards = 0 # PLEASE MODIFY\n",
        "\n",
        "print(\"Number of trap cards = {}\".format(num_trap_cards))"
      ],
      "execution_count": null,
      "outputs": []
    },
    {
      "cell_type": "code",
      "metadata": {
        "id": "P9WaQ2HmCTYG"
      },
      "source": [
        "# PLEASE MODIFY CODE BELOW.\n",
        "\n",
        "num_dragon_beats = 0\n",
        "\n",
        "print(\"Number of monsters that dragon can beat = {}\".format(num_dragon_beats))"
      ],
      "execution_count": null,
      "outputs": []
    },
    {
      "cell_type": "code",
      "metadata": {
        "id": "N1X54p1RClbg"
      },
      "source": [
        "# PLEASE MODIFY CODE BELOW.\n",
        "\n",
        "num_avg_summon = 0.0\n",
        "\n",
        "print(\"number of average summon = {}\".format(num_avg_summon))"
      ],
      "execution_count": null,
      "outputs": []
    },
    {
      "cell_type": "code",
      "metadata": {
        "id": "pmMHWH7zsZIE"
      },
      "source": [
        "# PLEASE MODIFY CODE BELOW.\n",
        "\n",
        "strongest_bw_monster = \"\"\n",
        "\n",
        "print(\"The strongest Beast-Warrio is {}\".format(strongest_bw_monster))"
      ],
      "execution_count": null,
      "outputs": []
    },
    {
      "cell_type": "markdown",
      "metadata": {
        "id": "K-sA1l9ZLREQ"
      },
      "source": [
        "### 題組（五）答案上傳區"
      ]
    },
    {
      "cell_type": "code",
      "metadata": {
        "id": "out6yiLuLCBy"
      },
      "source": [
        "submit_answers(sid, credential, 5, [\n",
        "    num_trap_cards,\n",
        "    num_dragon_beats,\n",
        "    num_avg_summon,\n",
        "    strongest_bw_monster,\n",
        "])"
      ],
      "execution_count": null,
      "outputs": []
    },
    {
      "cell_type": "markdown",
      "metadata": {
        "id": "KqxqxXpPGxL4"
      },
      "source": [
        "## 題組（六）：耗油量預測\n",
        "\n",
        "市面上車子的各種型號，都會因為需求與功能的不同，擁有不同的性能與損耗率。今天我們蒐集到了各種車輛的資料（[來源](https://archive.ics.uci.edu/ml/datasets/Auto+MPG)），希望藉由這些資料，透過 linear regression 方法，用某個 feature 來去預測車輛耗油量（`mpg`，單位為每加侖汽油可以行走的英哩數）。\n",
        "\n",
        "關於 regression 相關的定義如下：\n",
        "- function set：$f(x) = b + w_{1}x_{1}$\n",
        "- loss function：$L(b, w_{1}) = \\frac{1}{2}\\sum_{i=1}^{n}(\\hat{y}^{(i)} - (b + w_{1}{x}^{(i)}_{1}))^2$\n",
        "\n",
        "我們有以下可能的 input feature：\n",
        "- `displacement`：排氣量\n",
        "- `horsepower`：馬力\n",
        "- `weight`：重量\n",
        "- `acceleration`：加速度\n",
        "\n",
        "請試著回答以下問題：\n",
        "1. `mpg` 與 `horsepower` 的 correlation coefficient 值為多少？答案在誤差範圍 0.01 內都算對（`mpg_horsepower_cor`）\n",
        "2. 如果我們今天以 `horsepower` 作為 input feature，訓練之後的 $w_{1}$ 會是多少？答案在誤差範圍 0.01 內都算對（`horsepower_w1`）\n",
        "3. 在 4 個可能的 input feature 之中，會使得訓練出來的結果， testing data 的 MSE 最小的 input feature 會是哪個？（`smallest_mse_feature`）\n"
      ]
    },
    {
      "cell_type": "code",
      "metadata": {
        "id": "u8jdGoh-AZOp"
      },
      "source": [
        "!pip install numpy pandas matplotlib scikit-learn"
      ],
      "execution_count": null,
      "outputs": []
    },
    {
      "cell_type": "code",
      "metadata": {
        "id": "T1k-9FKIAay8"
      },
      "source": [
        "import matplotlib.pyplot as plt\n",
        "import numpy as np\n",
        "import pandas as pd\n",
        "from sklearn.model_selection import train_test_split\n",
        "from sklearn.preprocessing import StandardScaler\n",
        "from sklearn.metrics import mean_squared_error"
      ],
      "execution_count": null,
      "outputs": []
    },
    {
      "cell_type": "code",
      "metadata": {
        "id": "cHLvGRqRAdn6"
      },
      "source": [
        "df = pd.read_csv(\n",
        "    \"https://raw.githubusercontent.com/AINTUT/code_2021/main/datasets/mpg.csv\",\n",
        ")"
      ],
      "execution_count": null,
      "outputs": []
    },
    {
      "cell_type": "code",
      "metadata": {
        "id": "Esp8l3HlAfLb"
      },
      "source": [
        "# PLEASE MODIFY CODE BELOW.\n",
        "\n",
        "mpg_horsepower_cor = 0.0\n",
        "\n",
        "print(\"Correlation coefficient between mpg and horsepower = {}\".format(\n",
        "    mpg_horsepower_cor,\n",
        "))"
      ],
      "execution_count": null,
      "outputs": []
    },
    {
      "cell_type": "code",
      "metadata": {
        "id": "UY_2NoQrAhAB"
      },
      "source": [
        "def predict(x, weights):\n",
        "    return np.dot(x, weights[1:]) + weights[0]\n",
        "\n",
        "def calculate_loss(y_gt, y_pred):\n",
        "    loss = ((y_gt - y_pred) ** 2).sum() / 2.0\n",
        "\n",
        "    return loss\n",
        "\n",
        "def apply_scaling(x_train, x_test):\n",
        "    scaler = StandardScaler()\n",
        "\n",
        "    x_train_std = scaler.fit_transform(x_train)\n",
        "    x_test_std = scaler.transform(x_test)\n",
        "\n",
        "    return x_train_std, x_test_std\n",
        "\n",
        "def fit(x_train, y_train, epoches, learning_rate):\n",
        "    weights = np.zeros(x_train.shape[1] + 1)\n",
        "    losses = []\n",
        "\n",
        "    for _ in range(epoches):\n",
        "        y_pred = predict(x_train, weights)\n",
        "\n",
        "        diff = y_train - y_pred\n",
        "        weights[0] = weights[0] - learning_rate * -diff.sum()\n",
        "        weights[1:] = weights[1:] - learning_rate * -x_train.T.dot(diff)\n",
        "\n",
        "        losses.append(calculate_loss(y_train, y_pred))\n",
        "\n",
        "    return weights, losses\n",
        "\n",
        "# This is a helper function, you may not need to call it.\n",
        "def losses_plot(losses):\n",
        "    plt.plot(range(1, len(losses) + 1), losses)\n",
        "    plt.ylabel(\"SSE\")\n",
        "    plt.xlabel(\"Epoch\")\n",
        "    plt.show()\n",
        "\n",
        "# This is a helper function, you may not need to call it.\n",
        "def reg_plot(x, y_gt, y_pred):\n",
        "    plt.scatter(x, y_gt, c=\"steelblue\", edgecolor=\"white\")\n",
        "    plt.plot(x, y_pred, c=\"black\")\n",
        "\n",
        "    plt.xlabel(\"x\")\n",
        "    plt.ylabel(\"y\")\n",
        "\n",
        "    plt.show()"
      ],
      "execution_count": null,
      "outputs": []
    },
    {
      "cell_type": "code",
      "metadata": {
        "id": "VKf3h1ioAjWC"
      },
      "source": [
        "test_size = 0.15\n",
        "random_state = 0\n",
        "\n",
        "epoches = 40\n",
        "learning_rate = 0.001"
      ],
      "execution_count": null,
      "outputs": []
    },
    {
      "cell_type": "code",
      "metadata": {
        "id": "AJpuOt9CAk37"
      },
      "source": [
        "x_data = df[[\"horsepower\"]].to_numpy()\n",
        "y_data = df[\"mpg\"].to_numpy()\n",
        "\n",
        "x_train, x_test, y_train, y_test = train_test_split(\n",
        "    x_data,\n",
        "    y_data,\n",
        "    test_size=test_size,\n",
        "    random_state=random_state,\n",
        ")\n",
        "\n",
        "x_train_std, x_test_std = apply_scaling(x_train, x_test)\n",
        "\n",
        "# PLEASE MODIFY CODE BELOW.\n",
        "\n",
        "horsepower_w1 = 0.0\n",
        "\n",
        "print(\"W1 when input feature is horsepower = {}\".format(horsepower_w1))"
      ],
      "execution_count": null,
      "outputs": []
    },
    {
      "cell_type": "code",
      "metadata": {
        "id": "UjpVHW9tAmoe"
      },
      "source": [
        "# PLEASE MODIFY CODE BELOW.\n",
        "\n",
        "smallest_mse_feature = \"\"\n",
        "\n",
        "print(\"The input feature that has smallest MSE is {}\".format(\n",
        "    smallest_mse_feature,\n",
        "))"
      ],
      "execution_count": null,
      "outputs": []
    },
    {
      "cell_type": "markdown",
      "metadata": {
        "id": "YUkQqVa6Lpzp"
      },
      "source": [
        "### 題組（六）答案上傳區"
      ]
    },
    {
      "cell_type": "code",
      "metadata": {
        "id": "WqegjfGgLd0F"
      },
      "source": [
        "submit_answers(sid, credential, 6, [\n",
        "    mpg_horsepower_cor,\n",
        "    horsepower_w1,\n",
        "    smallest_mse_feature,\n",
        "])"
      ],
      "execution_count": null,
      "outputs": []
    }
  ]
}